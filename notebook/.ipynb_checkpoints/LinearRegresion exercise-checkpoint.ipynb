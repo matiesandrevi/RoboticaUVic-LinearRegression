{
 "metadata": {
  "name": "",
  "signature": "sha256:7f9d64626f70e3aa681f050ddf0540a193184099daea69c4f86bbbca8cb1dd0f"
 },
 "nbformat": 3,
 "nbformat_minor": 0,
 "worksheets": [
  {
   "cells": [
    {
     "cell_type": "code",
     "collapsed": false,
     "input": [
      "print \"LinearRegresion Exercise\"\n",
      "print \"***************************\"\n",
      "print \"Q1) Get the Housing Data Set form the repository [Names, Data] (it is different from the one used in the notebook!)\"\n",
      "print \"Import required\"\n",
      "import numpy as np\n",
      "import pandas as pd\n",
      "print \"****************************\"\n",
      "print \"Q2) Load the data (using numpy.loadtxt) and separate the last column (target value, MEDV).\"\n",
      "data = np.loadtxt('../housing.data')\n",
      "Y = data[:,-1]\n",
      "print \"*****************************\"\n",
      "print \"number of instances\", len (Y)\n",
      "print \"*****************************\"\n",
      "print Y.T"
     ],
     "language": "python",
     "metadata": {},
     "outputs": [
      {
       "output_type": "stream",
       "stream": "stdout",
       "text": [
        "LinearRegresion Exercise\n",
        "***************************\n",
        "Q1) Get the Housing Data Set form the repository [Names, Data] (it is different from the one used in the notebook!)\n",
        "Import required\n",
        "****************************"
       ]
      },
      {
       "output_type": "stream",
       "stream": "stdout",
       "text": [
        "\n",
        "Q2) Load the data (using numpy.loadtxt) and separate the last column (target value, MEDV).\n",
        "*****************************\n",
        "number of instances 506\n",
        "*****************************\n",
        "[24.  21.6 34.7 33.4 36.2 28.7 22.9 27.1 16.5 18.9 15.  18.9 21.7 20.4\n",
        " 18.2 19.9 23.1 17.5 20.2 18.2 13.6 19.6 15.2 14.5 15.6 13.9 16.6 14.8\n",
        " 18.4 21.  12.7 14.5 13.2 13.1 13.5 18.9 20.  21.  24.7 30.8 34.9 26.6\n",
        " 25.3 24.7 21.2 19.3 20.  16.6 14.4 19.4 19.7 20.5 25.  23.4 18.9 35.4\n",
        " 24.7 31.6 23.3 19.6 18.7 16.  22.2 25.  33.  23.5 19.4 22.  17.4 20.9\n",
        " 24.2 21.7 22.8 23.4 24.1 21.4 20.  20.8 21.2 20.3 28.  23.9 24.8 22.9\n",
        " 23.9 26.6 22.5 22.2 23.6 28.7 22.6 22.  22.9 25.  20.6 28.4 21.4 38.7\n",
        " 43.8 33.2 27.5 26.5 18.6 19.3 20.1 19.5 19.5 20.4 19.8 19.4 21.7 22.8\n",
        " 18.8 18.7 18.5 18.3 21.2 19.2 20.4 19.3 22.  20.3 20.5 17.3 18.8 21.4\n",
        " 15.7 16.2 18.  14.3 19.2 19.6 23.  18.4 15.6 18.1 17.4 17.1 13.3 17.8\n",
        " 14.  14.4 13.4 15.6 11.8 13.8 15.6 14.6 17.8 15.4 21.5 19.6 15.3 19.4\n",
        " 17.  15.6 13.1 41.3 24.3 23.3 27.  50.  50.  50.  22.7 25.  50.  23.8\n",
        " 23.8 22.3 17.4 19.1 23.1 23.6 22.6 29.4 23.2 24.6 29.9 37.2 39.8 36.2\n",
        " 37.9 32.5 26.4 29.6 50.  32.  29.8 34.9 37.  30.5 36.4 31.1 29.1 50.\n",
        " 33.3 30.3 34.6 34.9 32.9 24.1 42.3 48.5 50.  22.6 24.4 22.5 24.4 20.\n",
        " 21.7 19.3 22.4 28.1 23.7 25.  23.3 28.7 21.5 23.  26.7 21.7 27.5 30.1\n",
        " 44.8 50.  37.6 31.6 46.7 31.5 24.3 31.7 41.7 48.3 29.  24.  25.1 31.5\n",
        " 23.7 23.3 22.  20.1 22.2 23.7 17.6 18.5 24.3 20.5 24.5 26.2 24.4 24.8\n",
        " 29.6 42.8 21.9 20.9 44.  50.  36.  30.1 33.8 43.1 48.8 31.  36.5 22.8\n",
        " 30.7 50.  43.5 20.7 21.1 25.2 24.4 35.2 32.4 32.  33.2 33.1 29.1 35.1\n",
        " 45.4 35.4 46.  50.  32.2 22.  20.1 23.2 22.3 24.8 28.5 37.3 27.9 23.9\n",
        " 21.7 28.6 27.1 20.3 22.5 29.  24.8 22.  26.4 33.1 36.1 28.4 33.4 28.2\n",
        " 22.8 20.3 16.1 22.1 19.4 21.6 23.8 16.2 17.8 19.8 23.1 21.  23.8 23.1\n",
        " 20.4 18.5 25.  24.6 23.  22.2 19.3 22.6 19.8 17.1 19.4 22.2 20.7 21.1\n",
        " 19.5 18.5 20.6 19.  18.7 32.7 16.5 23.9 31.2 17.5 17.2 23.1 24.5 26.6\n",
        " 22.9 24.1 18.6 30.1 18.2 20.6 17.8 21.7 22.7 22.6 25.  19.9 20.8 16.8\n",
        " 21.9 27.5 21.9 23.1 50.  50.  50.  50.  50.  13.8 13.8 15.  13.9 13.3\n",
        " 13.1 10.2 10.4 10.9 11.3 12.3  8.8  7.2 10.5  7.4 10.2 11.5 15.1 23.2\n",
        "  9.7 13.8 12.7 13.1 12.5  8.5  5.   6.3  5.6  7.2 12.1  8.3  8.5  5.\n",
        " 11.9 27.9 17.2 27.5 15.  17.2 17.9 16.3  7.   7.2  7.5 10.4  8.8  8.4\n",
        " 16.7 14.2 20.8 13.4 11.7  8.3 10.2 10.9 11.   9.5 14.5 14.1 16.1 14.3\n",
        " 11.7 13.4  9.6  8.7  8.4 12.8 10.5 17.1 18.4 15.4 10.8 11.8 14.9 12.6\n",
        " 14.1 13.  13.4 15.2 16.1 17.8 14.9 14.1 12.7 13.5 14.9 20.  16.4 17.7\n",
        " 19.5 20.2 21.4 19.9 19.  19.1 19.1 20.1 19.9 19.6 23.2 29.8 13.8 13.3\n",
        " 16.7 12.  14.6 21.4 23.  23.7 25.  21.8 20.6 21.2 19.1 20.6 15.2  7.\n",
        "  8.1 13.6 20.1 21.8 24.5 23.1 19.7 18.3 21.2 17.5 16.8 22.4 20.6 23.9\n",
        " 22.  11.9]\n"
       ]
      }
     ],
     "prompt_number": 1
    },
    {
     "cell_type": "code",
     "collapsed": false,
     "input": [
      "print \"Compute the average of the target value\"\n",
      "print \"*******************\"\n",
      "Y_mean = np.mean(Y)\n",
      "\n",
      "print \"The mean is:\", Y_mean"
     ],
     "language": "python",
     "metadata": {},
     "outputs": [
      {
       "output_type": "stream",
       "stream": "stdout",
       "text": [
        "Compute the average of the target value\n",
        "*******************\n",
        "The mean is: 22.532806324110677\n"
       ]
      }
     ],
     "prompt_number": 2
    },
    {
     "cell_type": "code",
     "collapsed": false,
     "input": [
      "print \"Compute the MSE obtained using it as a constant prediction.\"\n",
      "def MSE(Y,X,theta):\n",
      "    MSE = float(sum((Y-dot(X, theta))**2)/len(Y))\n",
      "    return MSE\n",
      "\n",
      "dot = np.dot\n",
      "inv = np.linalg.inv\n",
      "\n",
      "X = np.ones((len(Y),1))\n",
      "\n",
      "theta = dot(dot(inv(dot(X.T, X)), X.T), Y)\n",
      "print \"***********************\"\n",
      "print \"The Mean Squared Error is:\", MSE(Y,X,theta)"
     ],
     "language": "python",
     "metadata": {},
     "outputs": [
      {
       "output_type": "stream",
       "stream": "stdout",
       "text": [
        "Compute the MSE obtained using it as a constant prediction.\n",
        "***********************\n",
        "The Mean Squared Error is: 84.4195561562\n"
       ]
      }
     ],
     "prompt_number": 3
    },
    {
     "cell_type": "code",
     "collapsed": false,
     "input": [
      "print \"Q3) Split the data in two parts (50%-50%) for training and testing\"\n",
      "from scipy.linalg import lstsq\n",
      "    \n",
      "n = len(Y)/2\n",
      "    \n",
      "traindata = data[:n,:-1]\n",
      "testdata = data[n:,:-1]\n",
      "\n",
      "objectivetraindata = data[:n, -1]\n",
      "objectivetestdata = data[n:, -1]\n",
      "    \n",
      "MSEtrain = []\n",
      "MSEtest = []\n",
      "theta = []\n",
      "\n",
      "\n",
      "for i in range(0,len(data[0])-1):\n",
      "    #Training\n",
      "    train_X = np.hstack((X[:n], traindata[:,i].reshape(len(objectivetraindata),1)))\n",
      "    #Testing\n",
      "    test_X = np.hstack((X[n:], testdata[:,i].reshape(len(objectivetestdata),1)))\n",
      "    #Save theta of each element.\n",
      "    theta.append(lstsq(train_X, objectivetraindata)[0])\n",
      "    #Save the MSE of each training element.\n",
      "    MSEtrain.append(MSE(objectivetraindata, train_X, theta[i]))\n",
      "    #Save the MSE of each test element.\n",
      "    MSEtest.append(MSE(objectivetestdata, test_X, theta[i]))\n",
      "\n",
      "print \"Training MSE: \"\n",
      "print MSEtrain\n",
      "print \"************************\"\n",
      "print \"Testing MSE: \"\n",
      "print MSEtest"
     ],
     "language": "python",
     "metadata": {},
     "outputs": [
      {
       "output_type": "stream",
       "stream": "stdout",
       "text": [
        "Q3) Split the data in two parts (50%-50%) for training and testing\n",
        "Training MSE: \n",
        "[65.77339540438145, 62.18486412938459, 60.20294629831377, 69.24037546862544, 61.54527905641779, 15.935147920571643, 61.427495917253616, 68.00062307983848, 69.1493593765635, 65.4358816030384, 59.75097258260565, 66.04075276831178, 34.380755775897235]\n",
        "************************\n",
        "Testing MSE: \n",
        "[873.5168736238207, 91.9337946648404, 74.74611196598877, 105.20352304376996, 80.16012622546438, 78.055634425306, 88.95536072328524, 97.46324219086712, 144.90523084959966, 67.51748098172573, 72.5071633305514, 86.44950014387535, 43.343723595296545]\n"
       ]
      }
     ],
     "prompt_number": 4
    },
    {
     "cell_type": "code",
     "collapsed": false,
     "input": [
      "minMSE = []\n",
      "\n",
      "for i in range(len(MSEtrain)):\n",
      "    minMSE.append(MSEtrain[i])\n",
      "print \"Variable is the most informative is at column %d with value %3.f\" % (np.argmin(MSEtrain), np.min(MSEtrain))\n",
      "\n",
      "for i in range(len(MSEtrain)):\n",
      "    minMSE.append(MSEtest[i])\n",
      "print \"Variable generalize better is at column %d with value %3.f\" % (np.argmin(MSEtest), np.min(MSEtest))\n",
      "\n",
      "for i in range(len(MSEtrain)):\n",
      "    minMSE.append(MSEtest[i])\n",
      "print \"Variable generalize worse is at column %d with value %3.f\" % (np.argmax(MSEtest), np.max(MSEtest))\n"
     ],
     "language": "python",
     "metadata": {},
     "outputs": [
      {
       "output_type": "stream",
       "stream": "stdout",
       "text": [
        "Variable is the most informative is at column 5 with value  16\n",
        "Variable generalize better is at column 12 with value  43\n",
        "Variable generalize worse is at column 0 with value 874\n"
       ]
      }
     ],
     "prompt_number": 5
    },
    {
     "cell_type": "code",
     "collapsed": false,
     "input": [
      "print \"Compute the coefficient of determination (R^2) for the test set.\"\n",
      "mean = sum (objectivetestdata)/len(objectivetestdata)\n",
      "var = sum((mean-objectivetestdata)**2)/len(objectivetestdata)\n",
      "R2=1-(MSEtest/var)\n",
      "print R2"
     ],
     "language": "python",
     "metadata": {},
     "outputs": [
      {
       "output_type": "stream",
       "stream": "stdout",
       "text": [
        "Compute the coefficient of determination (R^2) for the test set.\n",
        "[-8.3637876   0.01450269  0.19874849 -0.12774404  0.1407122   0.16327159\n",
        "  0.04643044 -0.044771   -0.5533321   0.27623682  0.22274921  0.07329236\n",
        "  0.53537083]\n"
       ]
      }
     ],
     "prompt_number": 6
    },
    {
     "cell_type": "code",
     "collapsed": false,
     "input": [
      "print \"Q4) Now train a model with all the variables plus a bias term.\" \n",
      "Allvartrain=np.hstack((X[:n],traindata[:,:].reshape(len(objectivetraindata),len(data[0])-1)))\n",
      "Allvartest=np.hstack((X[:n],testdata[:,:].reshape(len(objectivetestdata),len(data[0])-1)))\n",
      "theta = (lstsq(Allvartrain, objectivetraindata)[0])\n",
      "print \"*********************\"\n",
      "print \"Training MSE with all variables\"\n",
      "MSEAllvartrain = MSE(objectivetraindata, Allvartrain, theta)\n",
      "print MSEAllvartrain\n",
      "print \"*********************\"\n",
      "print \"Testing MSE with all variables\"\n",
      "MSEAllvartest = MSE(objectivetestdata, Allvartest, theta)\n",
      "print MSEAllvartest"
     ],
     "language": "python",
     "metadata": {},
     "outputs": [
      {
       "output_type": "stream",
       "stream": "stdout",
       "text": [
        "Q4) Now train a model with all the variables plus a bias term.\n",
        "*********************\n",
        "Training MSE with all variables\n",
        "9.98751732546\n",
        "*********************\n",
        "Testing MSE with all variables\n",
        "303.436862927\n"
       ]
      }
     ],
     "prompt_number": 7
    },
    {
     "cell_type": "code",
     "collapsed": false,
     "input": [
      "print \"Compute the coefficient of determination (R^2) for the test set with all var\"\n",
      "meanAllvar = sum (objectivetestdata)/len(objectivetestdata)\n",
      "varAllvar = sum((mean-objectivetestdata)**2)/len(objectivetestdata)\n",
      "R2Allvar=1-(MSEAllvartest/varAllvar)\n",
      "print R2Allvar"
     ],
     "language": "python",
     "metadata": {},
     "outputs": [
      {
       "output_type": "stream",
       "stream": "stdout",
       "text": [
        "Compute the coefficient of determination (R^2) for the test set with all var\n",
        "-2.2527343423925172\n"
       ]
      }
     ],
     "prompt_number": 8
    },
    {
     "cell_type": "code",
     "collapsed": false,
     "input": [
      "print \"Taking off the worst variable, that is the first\"\n",
      "\n",
      "traindata2 = traindata[:, 1:]\n",
      "testdata2 = testdata[:, 1:]\n",
      "Allvartrain2 = np.hstack((X[:n],traindata2[:,:].reshape(len(objectivetraindata),len(data[0])-2)))\n",
      "Allvartest2 = np.hstack((X[:n],testdata2[:,:].reshape(len(objectivetestdata),len(data[0])-2)))\n",
      "theta = (lstsq(Allvartrain2, objectivetraindata)[0])\n",
      "print \"****************************\"\n",
      "print \"Training MSE with all variables\"\n",
      "MSEAllvartrain2 = MSE(objectivetraindata, Allvartrain2, theta)\n",
      "print MSEAllvartrain2\n",
      "print \"****************************\"\n",
      "print \"Testing MSE with all variables\"\n",
      "MSEAllvartest2 = MSE(objectivetestdata, Allvartest2, theta)\n",
      "print MSEAllvartest"
     ],
     "language": "python",
     "metadata": {},
     "outputs": [
      {
       "output_type": "stream",
       "stream": "stdout",
       "text": [
        "Taking off the worst variable, that is the first\n",
        "****************************\n",
        "Training MSE with all variables\n",
        "10.2162833878\n",
        "****************************\n",
        "Testing MSE with all variables\n",
        "303.436862927\n"
       ]
      }
     ],
     "prompt_number": 9
    },
    {
     "cell_type": "code",
     "collapsed": true,
     "input": [
      "print \"Compute the coefficient of determination (R^2) for the test set with all var\"\n",
      "meanAllvar2 = sum (objectivetestdata)/len(objectivetestdata)\n",
      "varAllvar2 = sum((mean-objectivetestdata)**2)/len(objectivetestdata)\n",
      "R2Allvar2=1-(MSEAllvartest2/varAllvar)\n",
      "print R2Allvar2\n",
      "print \"The predictor is worst\""
     ],
     "language": "python",
     "metadata": {},
     "outputs": [
      {
       "output_type": "stream",
       "stream": "stdout",
       "text": [
        "Compute the coefficient of determination (R^2) for the test set with all var\n",
        "0.4587612682008275\n",
        "The predictor is worst\n"
       ]
      }
     ],
     "prompt_number": 10
    },
    {
     "cell_type": "code",
     "collapsed": false,
     "input": [
      "print \"Q5) Repeat step 3 but adding, one by one, all polynomials up to degree 4.\"\n",
      "print \"What are the effects of adding more capacity to the model?\""
     ],
     "language": "python",
     "metadata": {},
     "outputs": [
      {
       "output_type": "stream",
       "stream": "stdout",
       "text": [
        "Q5) Repeat step 3 but adding, one by one, all polynomials up to degree 4.\n",
        "What are the effects of adding more capacity to the model?\n"
       ]
      }
     ],
     "prompt_number": 11
    },
    {
     "cell_type": "code",
     "collapsed": false,
     "input": [
      "trainMSEx1 = []\n",
      "testMSEx1 = []\n",
      "thetax1 = []\n",
      "trainMSEx2 = []\n",
      "testMSEx2 = []\n",
      "thetax2 = []\n",
      "trainMSEx3 = []\n",
      "testMSEx3 = []\n",
      "thetax3 = []\n",
      "trainMSEx4 = []\n",
      "testMSEx4 = []\n",
      "thetax4 = []\n",
      "\n",
      "for i in range(0,len(data[0])-1):\n",
      "    trainx1 = traindata[:,i].reshape(n,1)\n",
      "    trainx2 = traindata[:,i].reshape(n,1) ** 2\n",
      "    trainx3 = traindata[:,i].reshape(n,1) ** 3\n",
      "    trainx4 = traindata[:,i].reshape(n,1) ** 4\n",
      "    \n",
      "    traindatax1 = np.hstack((X[:n], trainx1))\n",
      "    traindatax2 = np.hstack((X[:n], trainx1, trainx2))\n",
      "    traindatax3 = np.hstack((X[:n], trainx1, trainx2, trainx3))\n",
      "    traindatax4 = np.hstack((X[:n], trainx1, trainx2, trainx3, trainx4))\n",
      "    \n",
      "    thetax1.append(lstsq(traindatax1, objectivetraindata)[0])\n",
      "    thetax2.append(lstsq(traindatax2, objectivetraindata)[0])\n",
      "    thetax3.append(lstsq(traindatax3, objectivetraindata)[0])\n",
      "    thetax4.append(lstsq(traindatax4, objectivetraindata)[0])\n",
      "    \n",
      "\n",
      "    testx1 = testdata [:,i].reshape(n,1)\n",
      "    testx2 = testdata [:,i].reshape(n,1) ** 2\n",
      "    testx3 = testdata [:,i].reshape(n,1) ** 3\n",
      "    testx4 = testdata [:,i].reshape(n,1) ** 4\n",
      "    \n",
      "    testdatax1 = np.hstack((X[:n], testx1))\n",
      "    testdatax2 = np.hstack((X[:n], testx1, testx2))\n",
      "    testdatax3 = np.hstack((X[:n], testx1, testx2, testx3))\n",
      "    testdatax4 = np.hstack((X[:n], testx1, testx2, testx3, testx4))\n",
      "    \n",
      "    trainMSEx1.append(MSE(objectivetraindata, traindatax1, thetax1[i]))\n",
      "    trainMSEx2.append(MSE(objectivetraindata, traindatax2, thetax2[i]))\n",
      "    trainMSEx3.append(MSE(objectivetraindata, traindatax3, thetax3[i]))\n",
      "    trainMSEx4.append(MSE(objectivetraindata, traindatax4, thetax4[i]))\n",
      "\n",
      "    testMSEx1.append(MSE(objectivetestdata, testdatax1, thetax1[i]))\n",
      "    testMSEx2.append(MSE(objectivetestdata, testdatax2, thetax2[i]))\n",
      "    testMSEx3.append(MSE(objectivetestdata, testdatax3, thetax3[i]))\n",
      "    testMSEx4.append(MSE(objectivetestdata, testdatax4, thetax4[i]))\n",
      "    \n",
      "    \n",
      "print \"Variable that give more information\"\n",
      "print \"*************************\"\n",
      "index_min = trainMSEx1.index(min(trainMSEx1))\n",
      "print \"x1 \", index_min, \"MSE= \",trainMSEx1[index_min] \n",
      "index_min = trainMSEx2.index(min(trainMSEx2))\n",
      "print \"x2 \", index_min, \"MSE= \",trainMSEx2[index_min] \n",
      "index_min = trainMSEx3.index(min(trainMSEx3))\n",
      "print \"x3 \", index_min, \"MSE= \",trainMSEx3[index_min] \n",
      "index_min = trainMSEx4.index(min(trainMSEx4))\n",
      "print \"x4 \", index_min, \"MSE= \",trainMSEx4[index_min] \n",
      "print \"\"\n",
      "print \"Variable that generalize more information\"\n",
      "print \"*************************\"\n",
      "index_min = testMSEx1.index(min(testMSEx1))\n",
      "print \"x1 \", index_min, \"MSE= \",testMSEx1[index_min] \n",
      "index_min = testMSEx2.index(min(testMSEx2))\n",
      "print \"x2 \", index_min, \"MSE= \",testMSEx2[index_min] \n",
      "index_min = testMSEx3.index(min(testMSEx3))\n",
      "print \"x3 \", index_min, \"MSE= \",testMSEx3[index_min] \n",
      "index_min = testMSEx4.index(min(testMSEx4))\n",
      "print \"x4 \", index_min, \"MSE= \",testMSEx4[index_min] \n"
     ],
     "language": "python",
     "metadata": {},
     "outputs": [
      {
       "output_type": "stream",
       "stream": "stdout",
       "text": [
        "Variable that give more information\n",
        "*************************\n",
        "x1  5 MSE=  15.9351479206\n",
        "x2  5 MSE=  14.4470745011\n",
        "x3  5 MSE=  13.80410477\n",
        "x4  5 MSE=  13.3225563454\n",
        "\n",
        "Variable that generalize more information\n",
        "*************************\n",
        "x1  12 MSE=  43.3437235953\n",
        "x2  12 MSE=  43.3092762424\n",
        "x3  12 MSE=  42.4440172979\n",
        "x4  12 MSE=  40.9973504764\n"
       ]
      }
     ],
     "prompt_number": 12
    },
    {
     "cell_type": "code",
     "collapsed": false,
     "input": [
      "print \"Compute the coefficient of determination (R^2) for the test set with all var\"\n",
      "meanpolynomial = sum (objectivetestdata)/len(objectivetestdata)\n",
      "varpolynomial = sum((mean-objectivetestdata)**2)/len(objectivetestdata)\n",
      "R2polynomialx1=1-(testMSEx1/varAllvar)\n",
      "R2polynomialx2=1-(testMSEx2/varAllvar)\n",
      "R2polynomialx3=1-(testMSEx3/varAllvar)\n",
      "R2polynomialx4=1-(testMSEx4/varAllvar)\n",
      "\n",
      "print \"Polynomial x\"\n",
      "print \"*************************\"\n",
      "print R2polynomialx1\n",
      "print \"Polynomial x\u00b2\"\n",
      "print \"*************************\"\n",
      "print R2polynomialx2\n",
      "print \"Polynomial x\u00b3\"\n",
      "print \"*************************\"\n",
      "print R2polynomialx3\n",
      "print \"Polynomial x\u2074\"\n",
      "print \"*************************\"\n",
      "print R2polynomialx4\n"
     ],
     "language": "python",
     "metadata": {},
     "outputs": [
      {
       "output_type": "stream",
       "stream": "stdout",
       "text": [
        "Compute the coefficient of determination (R^2) for the test set with all var\n",
        "Polynomial x\n",
        "*************************\n",
        "[-8.3637876   0.01450269  0.19874849 -0.12774404  0.1407122   0.16327159\n",
        "  0.04643044 -0.044771   -0.5533321   0.27623682  0.22274921  0.07329236\n",
        "  0.53537083]\n",
        "Polynomial x\u00b2\n",
        "*************************\n",
        "[-1.34908300e+03 -5.96820126e-02  2.14987733e-01 -1.27744036e-01\n",
        "  1.57774381e-01  2.76119163e-01  6.39451345e-02  1.12473659e-02\n",
        " -3.66903267e+02  2.91764363e-01  1.74057428e-01  6.68678517e-02\n",
        "  5.35740092e-01]\n",
        "Polynomial x\u00b3\n",
        "*************************\n",
        "[-5.21327646e+07 -8.67535368e-02  7.98086885e-02 -1.27744036e-01\n",
        "  1.35256918e-01  2.72981745e-01  6.73578422e-02 -2.49288277e-01\n",
        " -5.57350773e+03 -7.51839242e+01  1.77828761e-01 -1.05145260e-01\n",
        "  5.45015357e-01]\n",
        "Polynomial x\u2074\n",
        "*************************\n",
        "[-5.36749247e+11 -1.13142870e-01  6.18640725e-02 -1.27744036e-01\n",
        " -1.03535855e-01  1.41526200e-01  5.96572792e-02 -2.46891636e-01\n",
        " -7.72395244e+03 -2.44647480e+03  2.70028411e-01 -3.50860642e-01\n",
        "  5.60523107e-01]\n"
       ]
      }
     ],
     "prompt_number": 13
    },
    {
     "cell_type": "code",
     "collapsed": false,
     "input": [
      "print \"result is better when polynomial is bigger\""
     ],
     "language": "python",
     "metadata": {},
     "outputs": [
      {
       "output_type": "stream",
       "stream": "stdout",
       "text": [
        "result is better when polynomial is bigger\n"
       ]
      }
     ],
     "prompt_number": 14
    },
    {
     "cell_type": "code",
     "collapsed": false,
     "input": [],
     "language": "python",
     "metadata": {},
     "outputs": []
    }
   ],
   "metadata": {}
  }
 ]
}